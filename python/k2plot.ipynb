{
 "cells": [
  {
   "cell_type": "code",
   "execution_count": 66,
   "metadata": {
    "collapsed": false
   },
   "outputs": [],
   "source": [
    "import os as os\n",
    "import sys as sys\n",
    "import subprocess\n",
    "import k2\n",
    "import subprocess\n",
    "import matplotlib.pyplot as plt\n",
    "from matplotlib import*\n",
    "import numpy as np\n",
    "import libcarma as libcarma\n",
    "import time as time\n",
    "import copy as copy\n",
    "import math as math\n",
    "import cmath as cmath\n",
    "import psutil as psutil\n",
    "%matplotlib inline"
   ]
  },
  {
   "cell_type": "code",
   "execution_count": 3,
   "metadata": {
    "collapsed": false
   },
   "outputs": [
    {
     "data": {
      "text/plain": [
       "0"
      ]
     },
     "execution_count": 3,
     "metadata": {},
     "output_type": "execute_result"
    }
   ],
   "source": [
    "filePathVan = \"/Users/Jackster/Desktop/k2c08AGN/Vanderberg/\" \n",
    "filePathKT = \"/Users/Jackster/Desktop/k2c08AGN/KTeam/\" \n",
    "runbash = ['source ~/.bash_profile;']\n",
    "subprocess.call(runbash, shell=True)\n",
    "subprocess.call('export K2DATADIR=\"/Users/Jackster/Research/code/k2/data/k2c08AGN/Vanderberg/\"',shell=True)\n",
    "subprocess.call('source ~/Research/code/libcarma/bin/setup.sh',shell=True)\n"
   ]
  },
  {
   "cell_type": "code",
   "execution_count": 100,
   "metadata": {
    "collapsed": false
   },
   "outputs": [],
   "source": [
    "import seaborn as sns\n",
    "sns.set_palette(\"colorblind\")\n",
    "sns.set_style(\"whitegrid\")\n",
    "def plotlc(t,y,mask):\n",
    "    fig = plt.figure()\n",
    "    ax = fig.add_subplot(111)\n",
    "    ax.plot(t,y*mask, marker = '+')\n",
    "    ax.set_xlabel('Time [days]')\n",
    "    ax.set_ylabel('Flux')\n",
    "    #ax.set_xlim(0, 6*np.pi)"
   ]
  },
  {
   "cell_type": "code",
   "execution_count": 102,
   "metadata": {
    "collapsed": false
   },
   "outputs": [],
   "source": [
    "LC = k2.k2LC(name = '220168966', band = 'Kep', processing = 'k2sff', campaign = 'c08')"
   ]
  },
  {
   "cell_type": "code",
   "execution_count": 107,
   "metadata": {
    "collapsed": false
   },
   "outputs": [
    {
     "data": {
      "image/png": "[encoded data removed]",
      "text/plain": [
       "<matplotlib.figure.Figure at 0x11d0f7610>"
      ]
     },
     "metadata": {},
     "output_type": "display_data"
    }
   ],
   "source": [
    "w = np.where(LC.mask == 1)[0]\n",
    "fig1 = plotlc(LC.t[w],LC.y[w],LC.mask[w])\n",
    "#plt.plot(LC.t,LC.y*LC.mask, 'k,')"
   ]
  },
  {
   "cell_type": "code",
   "execution_count": 112,
   "metadata": {
    "collapsed": false
   },
   "outputs": [],
   "source": [
    "def DHOparamsPlot(x,y):\n",
    "    \n",
    "    with sns.axes_style(\"darkgrid\"):\n",
    "        plt.hexbin(x, y,kind=\"hex\",  cmap = \"viridis\")\n",
    "        plt.xlim([0,30])\n",
    "        plt.ylim([0,50])\n",
    "        plt.colorbar()\n",
    "    #with sns.axes_style(\"darkgrid\"):\n",
    "     #   sns.kdeplot(x, y,shade=False)    "
   ]
  },
  {
   "cell_type": "code",
   "execution_count": 108,
   "metadata": {
    "collapsed": true
   },
   "outputs": [],
   "source": [
    "# execute this cell\n",
    "from sklearn.neighbors import KernelDensity\n",
    "def kde_sklearn(data, grid, bandwidth = 1.0, **kwargs):\n",
    "    kde_skl = KernelDensity(bandwidth = bandwidth, **kwargs)\n",
    "    kde_skl.fit(data[:, np.newaxis])\n",
    "    log_pdf = kde_skl.score_samples(grid[:, np.newaxis]) # sklearn returns log(density)\n",
    "\n",
    "    return np.exp(log_pdf)"
   ]
  },
  {
   "cell_type": "code",
   "execution_count": 109,
   "metadata": {
    "collapsed": false
   },
   "outputs": [
    {
     "name": "stdout",
     "output_type": "stream",
     "text": [
      "Starting libcarma fitting for p = 2 and q = 1...\n",
      "libcarma took 49.287 s = 0.821 min = 0.014 hrs\n",
      "C-ARMA(2,1) DIC: +nan\n"
     ]
    }
   ],
   "source": [
    "LC.minTimescale = 2.0\n",
    "LC.maxTimescale = 0.5\n",
    "LC.maxSigma = 2.0\n",
    "pMax = 2\n",
    "pMin = 2\n",
    "qMin = 1\n",
    "nwalkers = 200\n",
    "nsteps = 2000\n",
    "taskDict = dict()\n",
    "DICDict= dict()\n",
    "\n",
    "dataForResultsFile = [] \n",
    "for p in xrange(pMin, pMax + 1):\n",
    "\n",
    "\tfor q in xrange(qMin, p):\n",
    "\t\tnt = libcarma.basicTask(p, q, nwalkers, nsteps)\n",
    "\n",
    "\t\tprint 'Starting libcarma fitting for p = %d and q = %d...'%(p, q)\n",
    "\t\tstartLCARMA = time.time()\n",
    "\t\tnt.fit(LC)\n",
    "\t\tstopLCARMA = time.time()\n",
    "\t\ttimeLCARMA = stopLCARMA - startLCARMA\n",
    "\t\tprint 'libcarma took %4.3f s = %4.3f min = %4.3f hrs'%(timeLCARMA, timeLCARMA/60.0, timeLCARMA/3600.0)\n",
    "\n",
    "\t\tDeviances = copy.copy(nt.LnPosterior[:,nsteps/2:]).reshape((-1))\n",
    "\t\tDIC = 0.5*math.pow(np.std(-2.0*Deviances),2.0) + np.mean(-2.0*Deviances)\n",
    "\t\tprint 'C-ARMA(%d,%d) DIC: %+4.3e'%(p, q, DIC)\n",
    "\t\tDICDict['%d %d'%(p, q)] = DIC\n",
    "\t\ttaskDict['%d %d'%(p, q)] = nt"
   ]
  },
  {
   "cell_type": "code",
   "execution_count": 84,
   "metadata": {
    "collapsed": false
   },
   "outputs": [
    {
     "data": {
      "text/plain": [
       "(4, 100, 250)"
      ]
     },
     "execution_count": 84,
     "metadata": {},
     "output_type": "execute_result"
    }
   ],
   "source": [
    "np.shape(nt.Chain[:,:,:])"
   ]
  },
  {
   "cell_type": "code",
   "execution_count": 114,
   "metadata": {
    "collapsed": false
   },
   "outputs": [
    {
     "data": {
      "text/plain": [
       "<matplotlib.collections.PathCollection at 0x11adf3cd0>"
      ]
     },
     "execution_count": 114,
     "metadata": {},
     "output_type": "execute_result"
    },
    {
     "data": {
      "image/png": "[encoded data removed]",
      "text/plain": [
       "<matplotlib.figure.Figure at 0x1515cb0d0>"
      ]
     },
     "metadata": {},
     "output_type": "display_data"
    }
   ],
   "source": [
    "\n",
    "x1 = np.array(nt.Chain[0,:,:]).reshape((1,100*250))\n",
    "x2 = np.array(nt.Chain[1,:,:]).reshape((1,100*250))\n",
    "np.shape(x1)\n",
    "plt.scatter(x1,x2)\n",
    "#plt.xlim([0,30])\n",
    "#plt.ylim([0,50])\n",
    "#DHOparamsPlot(x1,x2)"
   ]
  },
  {
   "cell_type": "code",
   "execution_count": null,
   "metadata": {
    "collapsed": true
   },
   "outputs": [],
   "source": [
    "g = sns.PairGrid(iris, vars = [\"sepal_length\", \"sepal_width\", \"petal_length\", \"petal_width\"],\n",
    "                 hue = \"species\", diag_sharey=False)\n",
    "g.map_lower(sns.kdeplot)\n",
    "g.map_upper(plt.scatter, edgecolor='white')\n",
    "g.map_diag(sns.kdeplot, lw=3)"
   ]
  },
  {
   "cell_type": "code",
   "execution_count": null,
   "metadata": {
    "collapsed": true
   },
   "outputs": [],
   "source": []
  }
 ],
 "metadata": {
  "kernelspec": {
   "display_name": "Python 2",
   "language": "python",
   "name": "python2"
  },
  "language_info": {
   "codemirror_mode": {
    "name": "ipython",
    "version": 2
   },
   "file_extension": ".py",
   "mimetype": "text/x-python",
   "name": "python",
   "nbconvert_exporter": "python",
   "pygments_lexer": "ipython2",
   "version": "2.7.11"
  }
 },
 "nbformat": 4,
 "nbformat_minor": 0
}
